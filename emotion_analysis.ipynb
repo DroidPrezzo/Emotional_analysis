{
 "cells": [
  {
   "cell_type": "code",
   "execution_count": 9,
   "metadata": {},
   "outputs": [],
   "source": [
    "from transformers import pipeline\n",
    "from tqdm import tqdm\n",
    "import torch\n",
    "import pandas as pd\n",
    "from transformers import AutoTokenizer\n",
    "from transformers import AutoModelForSequenceClassification\n",
    "\n",
    "\n"
   ]
  },
  {
   "cell_type": "code",
   "execution_count": 10,
   "metadata": {},
   "outputs": [],
   "source": [
    "def initialize_model():\n",
    "    device = torch.device(\"cuda:0\" if torch.cuda.is_available() else \"cpu\")\n",
    "    classifier = pipeline(\"text-classification\", model=\"j-hartmann/emotion-english-distilroberta-base\", top_k=1, device = device)\n",
    "    tokenizer = AutoTokenizer.from_pretrained(\"j-hartmann/emotion-english-distilroberta-base\")\n",
    "    model = AutoModelForSequenceClassification.from_pretrained(\"j-hartmann/emotion-english-distilroberta-base\").to(device)\n",
    "    return device, classifier, tokenizer, model"
   ]
  },
  {
   "cell_type": "code",
   "execution_count": 13,
   "metadata": {},
   "outputs": [],
   "source": [
    "def get_emotion(device, tokenizer, model, text):\n",
    "    max_length = 510  # Keep two spots for [CLS] and [SEP] tokens\n",
    "    tokens = tokenizer.tokenize(text)\n",
    "    chunks = [tokens[i:i+max_length] for i in range(0, len(tokens), max_length)]\n",
    "\n",
    "    probabilities = []\n",
    "    for chunk in chunks:\n",
    "        ids = tokenizer.convert_tokens_to_ids(chunk)\n",
    "        input_ids = torch.tensor([tokenizer.build_inputs_with_special_tokens(ids)]).to(device)\n",
    "        attention_mask = torch.ones(input_ids.shape).to(device)\n",
    "\n",
    "        with torch.no_grad():\n",
    "            outputs = model(input_ids, attention_mask=attention_mask)\n",
    "            prob = torch.nn.functional.softmax(outputs.logits, dim=-1)\n",
    "            probabilities.append(prob)\n",
    "\n",
    "    mean_probabilities = torch.mean(torch.stack(probabilities), dim=0)\n",
    "    emotion_index = torch.argmax(mean_probabilities).item()\n",
    "\n",
    "    if emotion_index == 0:\n",
    "        return \"anger\"\n",
    "    elif emotion_index == 1:\n",
    "        return \"disgust\"\n",
    "    elif emotion_index == 2:\n",
    "        return \"fear\"    \n",
    "    elif emotion_index == 3:\n",
    "        return \"joy\"\n",
    "    elif emotion_index == 4:\n",
    "        return \"neutral\"\n",
    "    elif emotion_index == 5:\n",
    "        return \"sadness\"\n",
    "    elif emotion_index == 6:\n",
    "        return \"surprise\""
   ]
  },
  {
   "cell_type": "code",
   "execution_count": 14,
   "metadata": {},
   "outputs": [
    {
     "name": "stderr",
     "output_type": "stream",
     "text": [
      "  3%|▎         | 215/7605 [00:44<55:14,  2.23it/s]Token indices sequence length is longer than the specified maximum sequence length for this model (757 > 512). Running this sequence through the model will result in indexing errors\n",
      "100%|██████████| 7605/7605 [18:16<00:00,  6.94it/s]  \n",
      "C:\\***:13: SettingWithCopyWarning: \n",
      "A value is trying to be set on a copy of a slice from a DataFrame.\n",
      "Try using .loc[row_indexer,col_indexer] = value instead\n",
      "\n",
      "See the caveats in the documentation: https://pandas.pydata.org/pandas-docs/stable/user_guide/indexing.html#returning-a-view-versus-a-copy\n",
      "  df['emotion'] = emotions\n"
     ]
    }
   ],
   "source": [
    "def get_emotions(file_name, df, column_name):\n",
    "    df = df[df[column_name].notna()]\n",
    "    \n",
    "    device, classifier, tokenizer, model = initialize_model()\n",
    "    emotions = []\n",
    "    for text in tqdm(df[column_name]):\n",
    "        emotions.append(get_emotion(device, tokenizer, model, text))\n",
    "    \n",
    "    save_emotions(emotions, file_name, df, column_name)\n",
    "    return emotions\n",
    "\n",
    "def save_emotions(emotions, file_name, df, column_name):\n",
    "    df['emotion'] = emotions\n",
    "    df.to_csv(file_name + \"_\" + column_name + \"_emotions.csv\", index=False)\n",
    "\n",
    "def main():\n",
    "    # Update the file_name and column_name variables\n",
    "    file_name = \"translated_output\"\n",
    "    df = pd.read_csv(file_name + \".csv\")\n",
    "    column_name = \"text\"\n",
    "    \n",
    "    get_emotions(file_name, df, column_name)\n",
    "\n",
    "if __name__ == \"__main__\":\n",
    "    main()"
   ]
  }
 ],
 "metadata": {
  "kernelspec": {
   "display_name": "Python 3",
   "language": "python",
   "name": "python3"
  },
  "language_info": {
   "codemirror_mode": {
    "name": "ipython",
    "version": 3
   },
   "file_extension": ".py",
   "mimetype": "text/x-python",
   "name": "python",
   "nbconvert_exporter": "python",
   "pygments_lexer": "ipython3",
   "version": "3.10.0"
  }
 },
 "nbformat": 4,
 "nbformat_minor": 2
}
